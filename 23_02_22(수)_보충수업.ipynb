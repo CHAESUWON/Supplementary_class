{
  "nbformat": 4,
  "nbformat_minor": 0,
  "metadata": {
    "colab": {
      "provenance": [],
      "authorship_tag": "ABX9TyN2mujeQBDUpAS0gB8ffsmW",
      "include_colab_link": true
    },
    "kernelspec": {
      "name": "python3",
      "display_name": "Python 3"
    },
    "language_info": {
      "name": "python"
    }
  },
  "cells": [
    {
      "cell_type": "markdown",
      "metadata": {
        "id": "view-in-github",
        "colab_type": "text"
      },
      "source": [
        "<a href=\"https://colab.research.google.com/github/CHAESUWON/Supplementary_class/blob/main/23_02_22(%EC%88%98)_%EB%B3%B4%EC%B6%A9%EC%88%98%EC%97%85.ipynb\" target=\"_parent\"><img src=\"https://colab.research.google.com/assets/colab-badge.svg\" alt=\"Open In Colab\"/></a>"
      ]
    },
    {
      "cell_type": "code",
      "execution_count": null,
      "metadata": {
        "id": "UumtichxeYRP",
        "colab": {
          "base_uri": "https://localhost:8080/"
        },
        "outputId": "41e1828f-297d-4b73-b9b6-4455a20c9b99"
      },
      "outputs": [
        {
          "output_type": "stream",
          "name": "stdout",
          "text": [
            "[1]\n",
            "None\n",
            "[1]\n"
          ]
        }
      ],
      "source": [
        "list_1 = []\n",
        "\n",
        "# # list_1 값 채우기 ##\n",
        "print(list_1 + [1]) # + 연산자 사용(python에서만 가능)/ 웬만하면 사용 지양!\n",
        "\n",
        "print(list_1.append(1)) # append()함수 사용. 근데 None 값 출력.. why??\n",
        "# append()가 이미 작동하여 list_1에 변화를 주었고, 반환을 아무것도 안하는 함수이기 때문에 None이 출력된다\n",
        "# 이게 무슨 소린고..?\n",
        "print(list_1) # 출력 값: [1]"
      ]
    },
    {
      "cell_type": "code",
      "source": [
        "## 1번 문제 ##\n",
        "list_2 = [1, 2 ,3]\n",
        "list_2.append(4)\n",
        "print(list_2) # 출력 값: [1, 2, 3, 4]"
      ],
      "metadata": {
        "colab": {
          "base_uri": "https://localhost:8080/"
        },
        "id": "fnS-RRxxpZji",
        "outputId": "2af95214-6e5e-4430-c3a3-3eeff17330c7"
      },
      "execution_count": null,
      "outputs": [
        {
          "output_type": "stream",
          "name": "stdout",
          "text": [
            "[1, 2, 3, 4]\n"
          ]
        }
      ]
    },
    {
      "cell_type": "code",
      "source": [
        "## 2번 문제 ##\n",
        "list_3 = [1, 2, 3]\n",
        "list_3.extend([4]) # extend(): 반복 가능한 속성을 가진 객체만 인자로 받을 수 있음.(반복 가능한 속성을 가진 객체가 뭐임?)\n",
        "\n",
        "print(list_3) # 출력 값: [1, 2, 3, 4]\n",
        "\n",
        "\n",
        "list_2 = [1, 2, 3]\n",
        "list_2.append([4]) # append()는 어떤 인자가 들어오든 대부분 작동 됨. 다만, 사용자가 의도한 모습으로 안나오는 경우가 생김.\n",
        "\n",
        "print(list_2) # 출력 값: [1, 2, 3, [4]]"
      ],
      "metadata": {
        "colab": {
          "base_uri": "https://localhost:8080/"
        },
        "id": "CHl2j1LPpYIR",
        "outputId": "dd87c6b5-7da2-4b93-cf45-5bf6601791f4"
      },
      "execution_count": null,
      "outputs": [
        {
          "output_type": "stream",
          "name": "stdout",
          "text": [
            "[1, 2, 3, 4]\n",
            "[1, 2, 3, {4}]\n"
          ]
        }
      ]
    },
    {
      "cell_type": "code",
      "source": [
        "## 3번 문제 ##\n",
        "list_4 = [1, 2, 3]\n",
        "list_4.insert(3, 4) # 인덱스 3의 위치에 4가 들어감\n",
        "print(list_4) # 출력 값: [1, 2, 3, 4]"
      ],
      "metadata": {
        "colab": {
          "base_uri": "https://localhost:8080/"
        },
        "id": "oyJIuYUJpW_q",
        "outputId": "47890661-64e1-4e03-d474-98e894513282"
      },
      "execution_count": null,
      "outputs": [
        {
          "output_type": "stream",
          "name": "stdout",
          "text": [
            "[1, 2, 3, 4]\n"
          ]
        }
      ]
    },
    {
      "cell_type": "code",
      "source": [
        "## 4번 문제 ##\n",
        "list_5 = [1, 2, 3]\n",
        "list_5.insert(0, 4) # 리시트 0 위치에 4가 들어가고 나머지는 뒤로 밀어냄\n",
        "\n",
        "print(list_5) # 출력 값: [4, 1, 2, 3]\n",
        "\n",
        "\n",
        "list_6 = [1, 2, 3]\n",
        "list_6.insert(-1, 4) # 본래 -1 위치인 [3]의 위치에 4가 들어가고 뒤쪽은 밀어냄??\n",
        "\n",
        "print(list_6) # 출력 값: [1, 2, 4, 3]\n",
        "\n",
        "\n",
        "list_7 = [1, 2, 3]\n",
        "list_7.insert(5, 4) # len값을 넘어가도 쌩까고 맨 뒤에 값이 들어감\n",
        "\n",
        "print(list_7) # 출력 값: [1, 2, 3, 4]"
      ],
      "metadata": {
        "colab": {
          "base_uri": "https://localhost:8080/"
        },
        "id": "j4hGoWYBpUmj",
        "outputId": "a595a349-2304-4873-e991-8f9dcc62a228"
      },
      "execution_count": null,
      "outputs": [
        {
          "output_type": "stream",
          "name": "stdout",
          "text": [
            "[4, 1, 2, 3]\n",
            "[1, 2, 4, 3]\n",
            "[1, 2, 3, 4]\n"
          ]
        }
      ]
    },
    {
      "cell_type": "code",
      "source": [
        "## 5번 문제 ##\n",
        "list_8 = [1, 2, 3]\n",
        "list_8.remove(3) # remove()함수는 특정 값을 제거해주는 함수. 삭제 할 값을 인자로 받음\n",
        "\n",
        "print(list_8) # 출력 값: [1, 2]"
      ],
      "metadata": {
        "colab": {
          "base_uri": "https://localhost:8080/"
        },
        "id": "c7fgMleioyv5",
        "outputId": "22ec000c-b6ca-41f3-8c93-f0ab524e8f8c"
      },
      "execution_count": null,
      "outputs": [
        {
          "output_type": "stream",
          "name": "stdout",
          "text": [
            "[1, 2]\n"
          ]
        }
      ]
    },
    {
      "cell_type": "code",
      "source": [
        "## 6번 문제 ##\n",
        "# list_9 = [1, 2, 3]\n",
        "# list_9.remove(4) # 리스트 안에 존재하지 않는 값을 지우면 error 뜸\n",
        "\n",
        "# print(list_9)\n",
        "\n",
        "\n",
        "list_10 = [1, 2, 1]\n",
        "list_10.remove(1) # remove() 함수는리스트 안에 중복 되는 값이 있을 경우, 가장 처음 찾는 값을 지운다\n",
        "\n",
        "print(list_10) # 출력 값:[2, 1]"
      ],
      "metadata": {
        "colab": {
          "base_uri": "https://localhost:8080/"
        },
        "id": "0-lTQerIpfGK",
        "outputId": "473bb247-3dd4-458e-86d4-c8bb776ce6cf"
      },
      "execution_count": null,
      "outputs": [
        {
          "output_type": "stream",
          "name": "stdout",
          "text": [
            "[2, 1]\n"
          ]
        }
      ]
    },
    {
      "cell_type": "code",
      "source": [
        "## 7번 문제 ##\n",
        "list_11 = [1, 2, 3]\n",
        "pop_item = list_11.pop(1) # pop()함수는 특정 인덱스 위치에 값을 뽑아내는 함수\n",
        "                          # 인덱스 값을 인자로 받으며, 리스트에 해당 인덱스의 값을 삭제시키는 함수\n",
        "                          # 반환 값으로 뽑아낸 값을 가짐\n",
        "\n",
        "print(list_11, pop_item) # 출력 값: [1, 3] 2"
      ],
      "metadata": {
        "colab": {
          "base_uri": "https://localhost:8080/"
        },
        "id": "xifnprgPp6wq",
        "outputId": "ea8e6330-de2b-4318-cf08-818d1268dfef"
      },
      "execution_count": null,
      "outputs": [
        {
          "output_type": "stream",
          "name": "stdout",
          "text": [
            "[1, 3] 2\n"
          ]
        }
      ]
    },
    {
      "cell_type": "code",
      "source": [],
      "metadata": {
        "id": "X8CGXJrYrFux"
      },
      "execution_count": null,
      "outputs": []
    },
    {
      "cell_type": "code",
      "source": [
        "## 조건문 ##"
      ],
      "metadata": {
        "id": "ML7wrdIprGZo"
      },
      "execution_count": null,
      "outputs": []
    },
    {
      "cell_type": "code",
      "source": [
        "## == 과 is 의 차이##\n",
        "\n",
        "## 1번 문제 ##\n",
        "num_1 = 1\n",
        "num_2 = 1\n",
        "\n",
        "print(num_1 == num_2) # 출력 값: True"
      ],
      "metadata": {
        "colab": {
          "base_uri": "https://localhost:8080/"
        },
        "id": "IJJyPTIkrNvK",
        "outputId": "6a2cea81-77da-4b69-eb06-5efee34810db"
      },
      "execution_count": null,
      "outputs": [
        {
          "output_type": "stream",
          "name": "stdout",
          "text": [
            "True\n"
          ]
        }
      ]
    },
    {
      "cell_type": "code",
      "source": [
        "## 2번 문제 ##\n",
        "num_1 = 1\n",
        "num_2 = 1\n",
        "\n",
        "print(num_1 is num_2) # 출력 값: True"
      ],
      "metadata": {
        "colab": {
          "base_uri": "https://localhost:8080/"
        },
        "id": "JdDIQCYjsfXx",
        "outputId": "6473646a-b640-40e6-fe19-6bb4245a7229"
      },
      "execution_count": null,
      "outputs": [
        {
          "output_type": "stream",
          "name": "stdout",
          "text": [
            "True\n"
          ]
        }
      ]
    },
    {
      "cell_type": "code",
      "source": [
        "## 1, 2번 문제 심화 이해(1) ##\n",
        "num_1 = 1  # int\n",
        "num_2 = 1.0  # float\n",
        "\n",
        "print(num_1 == num_2, num_1 is num_2) # 출력 값: True False\n",
        "# is는 단순 의미적인 비교가 아닌 실제로 같냐는 의미를 내포한다"
      ],
      "metadata": {
        "colab": {
          "base_uri": "https://localhost:8080/"
        },
        "id": "tPVx6c6JswmJ",
        "outputId": "bd577006-bb4f-44e2-f5d8-fa0ed135912f"
      },
      "execution_count": null,
      "outputs": [
        {
          "output_type": "stream",
          "name": "stdout",
          "text": [
            "True False\n"
          ]
        }
      ]
    },
    {
      "cell_type": "code",
      "source": [
        "## 1, 2번 문제 심화 이해(2) ##\n",
        "num_1 = 1\n",
        "num_2 = 1\n",
        "num_3 = num_2\n",
        "\n",
        "# is는 메모리에 저장된 위치를 가르키는 주소가 같은지 비교하는 문구 \n",
        "\n",
        "print(num_1 is num_2) # 출력 값: True\n",
        "print(num_1 is num_3) # 출력 값: True\n",
        "print(id(num_1), id(num_3)) # 출력 값: 9793088 9793088 (주소 값은 해당 컴퓨터마다 다르게 나옴)"
      ],
      "metadata": {
        "colab": {
          "base_uri": "https://localhost:8080/"
        },
        "id": "2pI6dnYztTBp",
        "outputId": "8873a5d3-1ed1-4756-8a6f-ba7ae7452198"
      },
      "execution_count": null,
      "outputs": [
        {
          "output_type": "stream",
          "name": "stdout",
          "text": [
            "True\n",
            "True\n",
            "9793088 9793088\n"
          ]
        }
      ]
    },
    {
      "cell_type": "code",
      "source": [
        "## 3번 문제 ##\n",
        "\n",
        "# 'and', 'or', 'not'이 각각 의미하는 바는?\n",
        "# and: 좌항, 우항이 모두 참이면 참, 하나라도 거짓이면 거짓을 반환\n",
        "# or: 좌항, 우항 중 하나라도 참일 경우 참, 둘다 거짓일 때만 거짓을 반환\n",
        "# not: 우항이 거짓이면 참, 참이면 거짓을 반환"
      ],
      "metadata": {
        "id": "NX8tK0Byuq1R"
      },
      "execution_count": null,
      "outputs": []
    },
    {
      "cell_type": "code",
      "source": [
        "print(True and True)\n",
        "print(True and False)\n",
        "print(False and False)\n",
        "print(True or True)\n",
        "print(True or False)\n",
        "print(True or False)\n",
        "print(False or False)\n",
        "print(not True)\n",
        "print(not False)"
      ],
      "metadata": {
        "colab": {
          "base_uri": "https://localhost:8080/"
        },
        "id": "l-GENm1pvSbA",
        "outputId": "8bdb848a-6956-415c-ebfe-3ddc7206f8c4"
      },
      "execution_count": null,
      "outputs": [
        {
          "output_type": "stream",
          "name": "stdout",
          "text": [
            "True\n",
            "False\n",
            "False\n",
            "True\n",
            "True\n",
            "True\n",
            "False\n",
            "False\n",
            "True\n"
          ]
        }
      ]
    },
    {
      "cell_type": "code",
      "source": [
        "## 5번 문제 ##\n",
        "print(True and False or True) # 출력 값: True\n",
        "\n",
        "# 앞에서부터 하나씩 풀어서 대입"
      ],
      "metadata": {
        "colab": {
          "base_uri": "https://localhost:8080/"
        },
        "id": "InKcSb96vqGA",
        "outputId": "9b7babaf-d60f-4ef9-971d-236cdf5d80ef"
      },
      "execution_count": null,
      "outputs": [
        {
          "output_type": "stream",
          "name": "stdout",
          "text": [
            "True\n"
          ]
        }
      ]
    },
    {
      "cell_type": "code",
      "source": [
        "## 5번 문제 심화(1) ##\n",
        "print(True or True and False) # 출력 값: True\n",
        "\n",
        "# 연산자의 우선순위로 인해 'and'가 먼저 계산된다"
      ],
      "metadata": {
        "colab": {
          "base_uri": "https://localhost:8080/"
        },
        "id": "381cxY4qv4HP",
        "outputId": "78f62f0a-4bb2-4525-9642-6f4c476dc347"
      },
      "execution_count": null,
      "outputs": [
        {
          "output_type": "stream",
          "name": "stdout",
          "text": [
            "True\n"
          ]
        }
      ]
    },
    {
      "cell_type": "code",
      "source": [
        "## 5번 문제 심화(2) ##\n",
        "print((True or True) and False)\n",
        "\n",
        "# 먼저 연산하고 싶은 것을 괄호로 씌워주면 연산자의 우선순위보다 우선적으로 작동\n",
        "# 때문에 먼저 계산하고자 하는 것을 괄호로 묶는다"
      ],
      "metadata": {
        "colab": {
          "base_uri": "https://localhost:8080/"
        },
        "id": "n1t0sUC-wauf",
        "outputId": "e9ab80c8-29c7-43a6-e3d3-3c6cb9514715"
      },
      "execution_count": null,
      "outputs": [
        {
          "output_type": "stream",
          "name": "stdout",
          "text": [
            "False\n"
          ]
        }
      ]
    },
    {
      "cell_type": "code",
      "source": [
        "## 6번 문제 ##\n",
        "print(((not((True and False) or False))and True) or False) # 출력 값: True"
      ],
      "metadata": {
        "colab": {
          "base_uri": "https://localhost:8080/"
        },
        "id": "UmkOgMpNw5-I",
        "outputId": "f30e58b1-06d4-4b93-d2c1-efe2d1a83871"
      },
      "execution_count": null,
      "outputs": [
        {
          "output_type": "stream",
          "name": "stdout",
          "text": [
            "True\n"
          ]
        }
      ]
    },
    {
      "cell_type": "code",
      "source": [
        "# 'if'조건문은 단지 'True'와 'False'만 구분 가능\n",
        "# True일 경우에는 안으로, False일 경우에는 무시하는 구조"
      ],
      "metadata": {
        "id": "97afePj2xkDZ"
      },
      "execution_count": null,
      "outputs": []
    },
    {
      "cell_type": "code",
      "source": [
        "# 'elif' = 그 밖에\n",
        "# 'esle' = 그렇지 않으면"
      ],
      "metadata": {
        "id": "R2L0LLOu1AUW"
      },
      "execution_count": null,
      "outputs": []
    },
    {
      "cell_type": "code",
      "source": [
        "money = 6000 # 돈\n",
        "len = 600 # 거리\n",
        "\n",
        "if money > 10000:\n",
        "  print(\"택시를 탄다\")\n",
        "\n",
        "elif money < 4000:\n",
        "  print(\"걸어간다\")\n",
        "\n",
        "elif (len <= 2000) and (len > 500): # 혹은 500 < len <= 2000으로 작성 가능\n",
        "  print(\"택시를 탄다\")\n",
        "\n",
        "else:\n",
        "  print(\"거리별 가격 체크\")"
      ],
      "metadata": {
        "colab": {
          "base_uri": "https://localhost:8080/"
        },
        "id": "WUuSreuw3EU-",
        "outputId": "649a561a-3393-4f7c-aa6b-039c3949d248"
      },
      "execution_count": null,
      "outputs": [
        {
          "output_type": "stream",
          "name": "stdout",
          "text": [
            "택시를 탄다\n"
          ]
        }
      ]
    },
    {
      "cell_type": "code",
      "source": [
        "# input()으로 값 받아보기\n",
        "\n",
        "input_money = int(input(\"지닌 돈을 입력하세요 >> \"))\n",
        "input_len = int(input(\"거리를 입력하세요 >> \"))\n",
        "money = input_money\n",
        "len = input_len\n",
        "\n",
        "if input_money > 10000:\n",
        "  print(\"택시를 탄다\")\n",
        "\n",
        "elif input_money < 4000:\n",
        "  print(\"걸어간다\")\n",
        "\n",
        "elif (input_len <= 2000) and (input_len > 500): # 혹은 500 < len <= 2000으로 작성 가능\n",
        "  print(\"택시를 탄다\")\n",
        "\n",
        "else:\n",
        "  print(\"거리별 가격 체크\")"
      ],
      "metadata": {
        "colab": {
          "base_uri": "https://localhost:8080/"
        },
        "id": "7DG8d28l4EQ9",
        "outputId": "02baf975-2be4-467e-8d3e-35d45d32e0a9"
      },
      "execution_count": null,
      "outputs": [
        {
          "output_type": "stream",
          "name": "stdout",
          "text": [
            "지닌 돈을 입력하세요 >> 3000\n",
            "거리를 입력하세요 >> 300\n",
            "걸어간다\n"
          ]
        }
      ]
    },
    {
      "cell_type": "code",
      "source": [
        "## 7번 문제 ##\n",
        "from random import uniform # uniform(a, b)는 a와 b 사이의 실수를 랜덤으로 생성\n",
        "\n",
        "number = uniform(0.0, 1.5)\n",
        "print(\"파이프의 길이는 %.1fm\" % number) # 소수점 첫째 자리까지 출력(교재 p.224 참고) \n",
        "                                        # %.1이 % number를 대신한다는 의미\n",
        "\n",
        "input_data = number\n",
        "pipe_len = input_data\n",
        "\n",
        "if pipe_len < 1:\n",
        "  print(\"파이프를 버리겠습니다\")\n",
        "\n",
        "elif pipe_len > 1:\n",
        "  print(\"파이프를 자르겠습니다\") \n",
        "\n",
        "else:\n",
        "  print(\"파이프를 그대로 두겠습니다\")"
      ],
      "metadata": {
        "colab": {
          "base_uri": "https://localhost:8080/"
        },
        "id": "b3HMz4u34xy0",
        "outputId": "a43e2bc0-7ad9-4ff0-d11d-5f52a215d6fe"
      },
      "execution_count": null,
      "outputs": [
        {
          "output_type": "stream",
          "name": "stdout",
          "text": [
            "파이프의 길이는 0.7m\n",
            "파이프를 버리겠습니다\n"
          ]
        }
      ]
    }
  ]
}