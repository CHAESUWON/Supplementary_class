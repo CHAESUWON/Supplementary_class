{
  "nbformat": 4,
  "nbformat_minor": 0,
  "metadata": {
    "colab": {
      "provenance": [],
      "authorship_tag": "ABX9TyNVIX3hzBrXX2AyQ7IsHNDn",
      "include_colab_link": true
    },
    "kernelspec": {
      "name": "python3",
      "display_name": "Python 3"
    },
    "language_info": {
      "name": "python"
    }
  },
  "cells": [
    {
      "cell_type": "markdown",
      "metadata": {
        "id": "view-in-github",
        "colab_type": "text"
      },
      "source": [
        "<a href=\"https://colab.research.google.com/github/CHAESUWON/Supplementary_class/blob/main/23_02_23(%EB%AA%A9)%EB%B3%B4%EC%B6%A9%EC%88%98%EC%97%85.ipynb\" target=\"_parent\"><img src=\"https://colab.research.google.com/assets/colab-badge.svg\" alt=\"Open In Colab\"/></a>"
      ]
    },
    {
      "cell_type": "code",
      "source": [
        "## 제어문 - 반복 ##"
      ],
      "metadata": {
        "id": "JBuBR-rIohp9"
      },
      "execution_count": null,
      "outputs": []
    },
    {
      "cell_type": "code",
      "execution_count": null,
      "metadata": {
        "colab": {
          "base_uri": "https://localhost:8080/"
        },
        "id": "Uqm1Irxqnv33",
        "outputId": "c5b03c22-9508-4e4c-916d-47b25d45488b"
      },
      "outputs": [
        {
          "output_type": "stream",
          "name": "stdout",
          "text": [
            "hello python\n",
            "hello python\n",
            "hello python\n",
            "hello python\n",
            "hello python\n",
            "hello python\n",
            "hello python\n",
            "hello python\n",
            "hello python\n",
            "hello python\n"
          ]
        }
      ],
      "source": [
        "# 1 #\n",
        "# print() 함수를 사용해 \"hello python\"을 10번 출력하는 코드를 작성하세요.\n",
        "# + 그리고, print() 함수 옆에 주석으로 1,2,3,4,5,6,7,8,9,10 을 작성하세요.\n",
        "\n",
        "print(\"hello python\") # 1\n",
        "print(\"hello python\") # 2\n",
        "print(\"hello python\") # 3\n",
        "print(\"hello python\") # 4\n",
        "print(\"hello python\") # 5\n",
        "print(\"hello python\") # 6\n",
        "print(\"hello python\") # 7\n",
        "print(\"hello python\") # 8\n",
        "print(\"hello python\") # 9\n",
        "print(\"hello python\") # 10"
      ]
    },
    {
      "cell_type": "code",
      "source": [
        "# 2 #\n",
        "# 2.1 위 주석에서 정수 1 ~ 10 까지, 정수 10개 사용했습니다. \n",
        "# 아래 ?? 위치에 [비교 연산자]를 입력해서 정수 1 ~ 10에 해당하는 범위 1개를 표현하세요.\n",
        "# 1 <= count <= 10 \n",
        "\n",
        "\n",
        "# 2.2 정수 0 ~ 11를 사용해 10번을 셀 수 있는 범위 4개를 표현하세요.\n",
        "# hint \n",
        "# 1 <= count <  11  # 10개\n",
        "# 1 <  count <= 11  # 10개\n",
        "# 0 <= count <  10  # 10개\n",
        "# 0 <  count <= 10  # 10개\n"
      ],
      "metadata": {
        "id": "1FrhHZT2ogE2"
      },
      "execution_count": null,
      "outputs": []
    },
    {
      "cell_type": "code",
      "source": [
        "# range(마지막 숫자 미만)\n",
        "# range(시작 숫자, 마지막 숫자)\n",
        "# range(시작 숫자, 마지막 숫자, 증감폭)\n",
        "\n",
        "# 1 #\n",
        "# 위 3가지 range() 함수 생성 방법을 모두 사용하여, 시작 숫자 0, 끝 숫자 10으로 변수에 할당 후\n",
        "# 3가지를 모두 출력하세요\n",
        "# 결과 >> range(0, 10)\n",
        "print(range(10))\n",
        "print(range(0, 10))\n",
        "print(range(0, 10, 1))\n",
        "\n",
        "# 2 #\n",
        "# 위 range 함수 1개를 사용해, 리스트 변수에 0 ~ 9까지 10개의 정수가 포함된 리스트를 출력하세요.\n",
        "# 결과 >> [0, 1, 2, 3, 4, 5, 6, 7, 8, 9]\n",
        "# hint 리스트와 튜플은 서로 변환이 가능하다.\n",
        "print(list(range(10)))\n",
        "\n",
        "# 3 #\n",
        "# 위 range 함수 1개를 사용해, 리스트 변수에 3의 배수 5개가 포함된 정수가 포함된 리스트를 출력하세요.\n",
        "# 결과 >> [0, 1, 2, 3, 4, 5, 6, 7, 8, 9]\n",
        "print(list(range(3, 16, 3)))\n",
        "\n",
        "# 4 # \n",
        "# 정수 1개를 입력받고, max = 10 변수를 이용하여, 0 ~ 9까지의 10개의 정수가 포함된 리스트를 출력하세요.\n",
        "max = 10\n",
        "list(range(max))\n",
        "\n",
        "# 5 #\n",
        "# 입력받은 정수의 구구단을 출력하세요\n",
        "# 결과 >> 몇 단을 출력할까요? 3 [3, 6, 9, 12, 15, 18, 21, 24, 27]\n",
        "input_num = int(input(\"몇의 배수를 출력할까요? >> \"))\n",
        "list_2 = list(range(3, 28, input_num))\n",
        "print(list_2)"
      ],
      "metadata": {
        "colab": {
          "base_uri": "https://localhost:8080/",
          "height": 303
        },
        "id": "Xah-23VQsHGM",
        "outputId": "4644f040-e050-4bd6-d7d0-54027141673f"
      },
      "execution_count": null,
      "outputs": [
        {
          "output_type": "stream",
          "name": "stdout",
          "text": [
            "range(0, 10)\n",
            "range(0, 10)\n",
            "range(0, 10)\n"
          ]
        },
        {
          "output_type": "error",
          "ename": "TypeError",
          "evalue": "ignored",
          "traceback": [
            "\u001b[0;31m---------------------------------------------------------------------------\u001b[0m",
            "\u001b[0;31mTypeError\u001b[0m                                 Traceback (most recent call last)",
            "\u001b[0;32m<ipython-input-121-a747c1229c24>\u001b[0m in \u001b[0;36m<module>\u001b[0;34m\u001b[0m\n\u001b[1;32m     15\u001b[0m \u001b[0;31m# 결과 >> [0, 1, 2, 3, 4, 5, 6, 7, 8, 9]\u001b[0m\u001b[0;34m\u001b[0m\u001b[0;34m\u001b[0m\u001b[0;34m\u001b[0m\u001b[0m\n\u001b[1;32m     16\u001b[0m \u001b[0;31m# hint 리스트와 튜플은 서로 변환이 가능하다.\u001b[0m\u001b[0;34m\u001b[0m\u001b[0;34m\u001b[0m\u001b[0;34m\u001b[0m\u001b[0m\n\u001b[0;32m---> 17\u001b[0;31m \u001b[0mprint\u001b[0m\u001b[0;34m(\u001b[0m\u001b[0mlist\u001b[0m\u001b[0;34m(\u001b[0m\u001b[0mrange\u001b[0m\u001b[0;34m(\u001b[0m\u001b[0;36m10\u001b[0m\u001b[0;34m)\u001b[0m\u001b[0;34m)\u001b[0m\u001b[0;34m)\u001b[0m\u001b[0;34m\u001b[0m\u001b[0;34m\u001b[0m\u001b[0m\n\u001b[0m\u001b[1;32m     18\u001b[0m \u001b[0;34m\u001b[0m\u001b[0m\n\u001b[1;32m     19\u001b[0m \u001b[0;31m# 3 #\u001b[0m\u001b[0;34m\u001b[0m\u001b[0;34m\u001b[0m\u001b[0;34m\u001b[0m\u001b[0m\n",
            "\u001b[0;31mTypeError\u001b[0m: 'list' object is not callable"
          ]
        }
      ]
    },
    {
      "cell_type": "code",
      "source": [
        "# 구구단 만들기 #\n",
        "\n",
        "input_num = int(input(\"몇 단을 출력할까요? >> \"))\n",
        "count = 1\n",
        "for i in range(1, 10):\n",
        "  print(f\"{input_num} x {i} = {input_num * i}\")\n",
        "count +=1"
      ],
      "metadata": {
        "colab": {
          "base_uri": "https://localhost:8080/"
        },
        "id": "06ot1J3TymkV",
        "outputId": "9e463b2b-8153-408c-abbc-c00775a22bf7"
      },
      "execution_count": null,
      "outputs": [
        {
          "output_type": "stream",
          "name": "stdout",
          "text": [
            "몇 단을 출력할까요? >> 6\n",
            "6 x 1 = 6\n",
            "6 x 2 = 12\n",
            "6 x 3 = 18\n",
            "6 x 4 = 24\n",
            "6 x 5 = 30\n",
            "6 x 6 = 36\n",
            "6 x 7 = 42\n",
            "6 x 8 = 48\n",
            "6 x 9 = 54\n"
          ]
        }
      ]
    },
    {
      "cell_type": "code",
      "source": [
        "# for 반복문에서 raneg() 함수를 사용한다는 의미?\n",
        "# for 변수 in range(숫자 미만):\n",
        "# for 변수 in range(시작 숫자, 마지막 숫자):\n",
        "# for 변수 in range(시작 숫자, 마지막 숫자, 증감폭):\n",
        "\n",
        "# 생각해보기\n",
        "# for 변수 in list(range(숫자)):\n",
        "\n",
        "# 1 #\n",
        "# 위 for 문 사용 방법 1가지를 골라서, 정수 2 ~ 9 을 출력하세요.\n",
        "for i in range(2, 10):\n",
        "  print(i)\n",
        "\n",
        "\n",
        "# 2 #\n",
        "# 위 for 문 사용 방법 1가지를 골라서, 정수 2 ~ 9, 8개를 요소로 가진 리스트를 출력하세요.\n",
        "# hint 빈 리스트에 추가하세요\n",
        "li = []\n",
        "for i in range(2, 10):  # 반복 되는 값이 무엇인지 모르면 중간중간에 반복 되는 값 출력해보기. ex) print(i)\n",
        "  li.append(i)\n",
        "\n",
        "print(li)"
      ],
      "metadata": {
        "colab": {
          "base_uri": "https://localhost:8080/"
        },
        "id": "AWHPKtqK_VYc",
        "outputId": "c737a4c9-0cb5-4db5-ec07-adbbd991f381"
      },
      "execution_count": null,
      "outputs": [
        {
          "output_type": "stream",
          "name": "stdout",
          "text": [
            "2\n",
            "3\n",
            "4\n",
            "5\n",
            "6\n",
            "7\n",
            "8\n",
            "9\n",
            "[2, 3, 4, 5, 6, 7, 8, 9]\n"
          ]
        }
      ]
    },
    {
      "cell_type": "code",
      "source": [
        "# 리스트 내포\n",
        "# 1 for 변수 in 범위:\n",
        "#       반복 실행코드\n",
        "\n",
        "# 2 for 변수 in range(숫자):\n",
        "# 3 for 변수 in 튜플\n",
        "# 4 for 변수 in list(튜플)\n",
        "# 5 for 변수 in list(range(숫자)):\n",
        "\n",
        "\n",
        "# 1 #\n",
        "# 아래 for 문을 이용하여, 정수 2 ~ 9, 8개의 요소를 출력하세요.\n",
        "\n",
        "# 1.1 for 변수 in range(숫자):\n",
        "# 1.2 for 변수 in 튜플:\n",
        "# 1.3 for 변수 in list(튜플):\n",
        "# 1.4 for 변수 in list(range(숫자)):\n",
        "Tuple = (\"A\", \"B\", \"C\", \"D\", )\n",
        "\n",
        "for i in range(2, 10):\n",
        "  print(i)\n",
        "\n",
        "# for i in Tuple:\n",
        "\n",
        "# for i in list(range(2, 10)):\n",
        "#   print(i)"
      ],
      "metadata": {
        "colab": {
          "base_uri": "https://localhost:8080/"
        },
        "id": "Iy6_INZmDw1z",
        "outputId": "1e625a76-98b4-4f80-8b3b-03bcf0b53761"
      },
      "execution_count": null,
      "outputs": [
        {
          "output_type": "stream",
          "name": "stdout",
          "text": [
            "2\n",
            "3\n",
            "4\n",
            "5\n",
            "6\n",
            "7\n",
            "8\n",
            "9\n"
          ]
        }
      ]
    },
    {
      "cell_type": "code",
      "source": [
        "# 리스트 내포\n",
        "# 1 for 변수 in 범위:\n",
        "#       반복 실행코드\n",
        "\n",
        "# 2 for 변수 in range(숫자):\n",
        "# 3 for 변수 in 튜플\n",
        "# 4 for 변수 in list(튜플)\n",
        "# 5 for 변수 in list(range(숫자)):\n",
        "\n",
        "\n",
        "# 1 #\n",
        "# 아래 for 문을 이용하여, 정수 2 ~ 9, 8개의 요소를 출력하세요.\n",
        "\n",
        "# 1.1 for 변수 in range(숫자):\n",
        "# 1.2 for 변수 in 튜플:\n",
        "# 1.3 for 변수 in list(튜플):\n",
        "# 1.4 for 변수 in list(range(숫자)):\n",
        "Tuple = (\"A\", \"B\", \"C\", \"D\", \"A\", \"B\", \"C\", \"D\" )\n",
        "\n",
        "for i in range(2, 10):\n",
        "  print(i, end='')\n",
        "  \n",
        "print()\n",
        "\n",
        "for i in list(range(2, 10)):\n",
        "  print(i)\n",
        "\n",
        "for j in list(Tuple):\n",
        "  print(j)\n",
        "\n",
        "print()\n",
        "\n",
        "for j in Tuple:\n",
        "  print(j, end='')"
      ],
      "metadata": {
        "colab": {
          "base_uri": "https://localhost:8080/",
          "height": 266
        },
        "outputId": "6b335c41-d369-4690-95e6-0046f5a6365f",
        "id": "P5elgF8vFuD1"
      },
      "execution_count": null,
      "outputs": [
        {
          "output_type": "stream",
          "name": "stdout",
          "text": [
            "23456789\n"
          ]
        },
        {
          "output_type": "error",
          "ename": "TypeError",
          "evalue": "ignored",
          "traceback": [
            "\u001b[0;31m---------------------------------------------------------------------------\u001b[0m",
            "\u001b[0;31mTypeError\u001b[0m                                 Traceback (most recent call last)",
            "\u001b[0;32m<ipython-input-116-b3d82d7e6db7>\u001b[0m in \u001b[0;36m<module>\u001b[0;34m\u001b[0m\n\u001b[1;32m     23\u001b[0m \u001b[0mprint\u001b[0m\u001b[0;34m(\u001b[0m\u001b[0;34m)\u001b[0m\u001b[0;34m\u001b[0m\u001b[0;34m\u001b[0m\u001b[0m\n\u001b[1;32m     24\u001b[0m \u001b[0;34m\u001b[0m\u001b[0m\n\u001b[0;32m---> 25\u001b[0;31m \u001b[0;32mfor\u001b[0m \u001b[0mi\u001b[0m \u001b[0;32min\u001b[0m \u001b[0mlist\u001b[0m\u001b[0;34m(\u001b[0m\u001b[0mrange\u001b[0m\u001b[0;34m(\u001b[0m\u001b[0;36m2\u001b[0m\u001b[0;34m,\u001b[0m \u001b[0;36m10\u001b[0m\u001b[0;34m)\u001b[0m\u001b[0;34m)\u001b[0m\u001b[0;34m:\u001b[0m\u001b[0;34m\u001b[0m\u001b[0;34m\u001b[0m\u001b[0m\n\u001b[0m\u001b[1;32m     26\u001b[0m   \u001b[0mprint\u001b[0m\u001b[0;34m(\u001b[0m\u001b[0mi\u001b[0m\u001b[0;34m)\u001b[0m\u001b[0;34m\u001b[0m\u001b[0;34m\u001b[0m\u001b[0m\n\u001b[1;32m     27\u001b[0m \u001b[0;34m\u001b[0m\u001b[0m\n",
            "\u001b[0;31mTypeError\u001b[0m: 'list' object is not callable"
          ]
        }
      ]
    },
    {
      "cell_type": "code",
      "source": [],
      "metadata": {
        "id": "G_OfBxd_G4FU"
      },
      "execution_count": null,
      "outputs": []
    }
  ]
}