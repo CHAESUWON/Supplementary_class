{
  "nbformat": 4,
  "nbformat_minor": 0,
  "metadata": {
    "colab": {
      "provenance": [],
      "authorship_tag": "ABX9TyPs4Fbv8KfZ8tyjBA96tRbL",
      "include_colab_link": true
    },
    "kernelspec": {
      "name": "python3",
      "display_name": "Python 3"
    },
    "language_info": {
      "name": "python"
    }
  },
  "cells": [
    {
      "cell_type": "markdown",
      "metadata": {
        "id": "view-in-github",
        "colab_type": "text"
      },
      "source": [
        "<a href=\"https://colab.research.google.com/github/CHAESUWON/Supplementary_class/blob/main/23_02_27(%EC%9B%94)_%EB%B3%B4%EC%B6%A9%EC%88%98%EC%97%85.ipynb\" target=\"_parent\"><img src=\"https://colab.research.google.com/assets/colab-badge.svg\" alt=\"Open In Colab\"/></a>"
      ]
    },
    {
      "cell_type": "code",
      "source": [
        "## 함수 ##"
      ],
      "metadata": {
        "id": "Wnzuucu1PT1h"
      },
      "execution_count": null,
      "outputs": []
    },
    {
      "cell_type": "code",
      "execution_count": null,
      "metadata": {
        "id": "u4eAB1uXON1z"
      },
      "outputs": [],
      "source": [
        "def example(argument): # \"def\": 함수 쓰겠다 선언/ 단, 내장함수명을 사용하지 않도록 주의!\n",
        "  argument             # 소괄호는 다음에 함수가 사용될 때 들어갈 인자에 대한 부분\n",
        "  return"
      ]
    },
    {
      "cell_type": "code",
      "source": [
        "# 함수 인자 설정하기\n",
        "# 인자의 이름은 나중에 키워드로 함수 값을 지정해줄 때 쓰일 수 있으므로 신경 써줘야합니다.\n",
        "def example(argument):\n",
        "  print(argument)\n",
        "  return\n",
        "\n",
        "example(argument=1)\n",
        "example(1)  # 키워드가 없으면 인자가 순서대로 들어감"
      ],
      "metadata": {
        "colab": {
          "base_uri": "https://localhost:8080/"
        },
        "id": "2TpGW3XiPiSJ",
        "outputId": "c2cb172f-3a1f-45a1-b37a-bc8968677a83"
      },
      "execution_count": null,
      "outputs": [
        {
          "output_type": "stream",
          "name": "stdout",
          "text": [
            "1\n",
            "1\n"
          ]
        }
      ]
    },
    {
      "cell_type": "code",
      "source": [
        "def example(argument_1, argument_2):\n",
        "  argument_1\n",
        "  argument_2\n",
        "  return\n",
        "\n",
        "example(argument_1=1, argument_2=2)\n",
        "example(1, 2)"
      ],
      "metadata": {
        "id": "XTDnftbCQxSJ",
        "colab": {
          "base_uri": "https://localhost:8080/"
        },
        "outputId": "df753a46-b5a5-44d9-8fbc-f5a2337651da"
      },
      "execution_count": 3,
      "outputs": [
        {
          "output_type": "stream",
          "name": "stdout",
          "text": [
            "None\n"
          ]
        }
      ]
    },
    {
      "cell_type": "code",
      "source": [
        "def example(argument=1):\n",
        "  argument\n",
        "  return"
      ],
      "metadata": {
        "id": "zqitdenjRFxz"
      },
      "execution_count": null,
      "outputs": []
    },
    {
      "cell_type": "code",
      "source": [
        "def example(argument_1, argument_2=1):\n",
        "  argument_1\n",
        "  argument_2\n",
        "  return"
      ],
      "metadata": {
        "id": "8H6OVOigRfG0"
      },
      "execution_count": null,
      "outputs": []
    },
    {
      "cell_type": "code",
      "source": [
        "def example(argument):\n",
        "  ret = argument * 2\n",
        "  return ret\n",
        "\n",
        "print(example(1))\n",
        "\n",
        "ret_1 = example(1)\n",
        "print(ret_1)"
      ],
      "metadata": {
        "colab": {
          "base_uri": "https://localhost:8080/"
        },
        "id": "qzV1wz1ZSNj1",
        "outputId": "22dddd54-4988-40cf-88d9-ed02fd3ff494"
      },
      "execution_count": null,
      "outputs": [
        {
          "output_type": "stream",
          "name": "stdout",
          "text": [
            "2\n",
            "2\n"
          ]
        }
      ]
    },
    {
      "cell_type": "code",
      "source": [
        "def example(argument):\n",
        "  ret =argument * 2\n",
        "  print(ret)\n",
        "\n",
        "print(example(1))"
      ],
      "metadata": {
        "colab": {
          "base_uri": "https://localhost:8080/"
        },
        "id": "J3_pGPQqTLkL",
        "outputId": "bfeded89-69fa-47b5-b811-821bc06d8eec"
      },
      "execution_count": null,
      "outputs": [
        {
          "output_type": "stream",
          "name": "stdout",
          "text": [
            "2\n",
            "None\n"
          ]
        }
      ]
    },
    {
      "cell_type": "code",
      "source": [
        "## 1번 문제 ##\n",
        "def add_num(num_1, num_2):\n",
        "  print(num_1 + num_2) # 출력값 나옴\n",
        "  return  # 리턴값 없어서 None"
      ],
      "metadata": {
        "id": "m01eGgy0TzSB"
      },
      "execution_count": 5,
      "outputs": []
    },
    {
      "cell_type": "code",
      "source": [
        "## 2번 문제 ##\n",
        "def multiple_num(num_1, num_2=1):\n",
        "  print(str(num_1))\n",
        "  print(str(num_2))\n",
        "  # ret = num_1 * num_2\n",
        "  # return ret\n",
        "\n",
        "  return num_1 * num_2\n",
        "\n",
        "multiple_num(3,4)"
      ],
      "metadata": {
        "colab": {
          "base_uri": "https://localhost:8080/"
        },
        "id": "3MK8myjXVDqp",
        "outputId": "f592462c-0bdc-4e93-b89e-cfce424fb0ee"
      },
      "execution_count": 8,
      "outputs": [
        {
          "output_type": "stream",
          "name": "stdout",
          "text": [
            "3\n",
            "4\n"
          ]
        },
        {
          "output_type": "execute_result",
          "data": {
            "text/plain": [
              "12"
            ]
          },
          "metadata": {},
          "execution_count": 8
        }
      ]
    },
    {
      "cell_type": "code",
      "source": [
        "## 3번 문제 ##\n",
        "def minus_num(num_2, num_1=10): # 기본값이 없는 인자는 뒤로\n",
        "  ret = num_2 - num_1\n",
        "  return ret\n",
        "\n",
        "  # return num_2 - num_1\n",
        "minus_num(5)"
      ],
      "metadata": {
        "colab": {
          "base_uri": "https://localhost:8080/"
        },
        "id": "6bLobP-HXAaS",
        "outputId": "83a0a675-4320-4fef-e94f-7b47fb4958c0"
      },
      "execution_count": 10,
      "outputs": [
        {
          "output_type": "execute_result",
          "data": {
            "text/plain": [
              "3"
            ]
          },
          "metadata": {},
          "execution_count": 10
        }
      ]
    },
    {
      "cell_type": "code",
      "source": [
        "## 4번 문제 ##\n",
        "def divide_num(num_1, num_2=1):\n",
        "  if  num_2 == 0:  # 0으로 나누면 에러나니까 미리 if문으로 0 리턴값 받음\n",
        "    return 0   # 리턴값 받으면 함수가 끝난다. 그리고 0으로 반환\n",
        "\n",
        "  # ret = num_1 / num_2\n",
        "  # return ret\n",
        "  return num_1 / num_2\n",
        "\n",
        "divide_num(5)"
      ],
      "metadata": {
        "colab": {
          "base_uri": "https://localhost:8080/"
        },
        "id": "2Iwa0Sc8YDY5",
        "outputId": "307b065a-fcb7-4621-e332-5d7c33616b7e"
      },
      "execution_count": 11,
      "outputs": [
        {
          "output_type": "execute_result",
          "data": {
            "text/plain": [
              "5.0"
            ]
          },
          "metadata": {},
          "execution_count": 11
        }
      ]
    },
    {
      "cell_type": "code",
      "source": [
        "def divide_num(num_1, num_2=1):\n",
        "  if  num_2 == 0:\n",
        "    return 0\n",
        "\n",
        "  else:\n",
        "    return num_1 / num_2"
      ],
      "metadata": {
        "id": "x1OFwNQvcMqs"
      },
      "execution_count": null,
      "outputs": []
    },
    {
      "cell_type": "code",
      "source": [
        "## 4번 문제 변화 ##\n",
        "def divide_num(num_1, num_2=1):\n",
        "  if num_2 != 0:\n",
        "    ret = num_1/num_2\n",
        "    return ret\n",
        "    \n",
        "  else:\n",
        "    return 0\n",
        "\n",
        "print(divide_num(5,0))"
      ],
      "metadata": {
        "colab": {
          "base_uri": "https://localhost:8080/"
        },
        "id": "Vk617JbCbVLr",
        "outputId": "dbe6a9bc-326a-4fc8-a560-68737f085807"
      },
      "execution_count": null,
      "outputs": [
        {
          "output_type": "stream",
          "name": "stdout",
          "text": [
            "0\n"
          ]
        }
      ]
    },
    {
      "cell_type": "code",
      "source": [
        "## 5번 문제 ##  어렵다.. 이해 요함 ㅇ0ㅇ;;\n",
        "def space_none(str_, num_1=0):\n",
        "  new_str = \"\"\n",
        "\n",
        "  if num_1 < 0:\n",
        "    num_1 = 0\n",
        "  # return new_str\n",
        "  \n",
        "  if num_1 == 0:\n",
        "    for char in str_:\n",
        "      if char == \" \":\n",
        "        char = \"_\"\n",
        "      # print(char)\n",
        "      new_str = new_str + char\n",
        "\n",
        "  else:\n",
        "    for char in str_:\n",
        "      if (char == \" \") and (num_1 > 0):\n",
        "        char = \"_\"\n",
        "        num_1 -= 1        \n",
        "      new_str = new_str + char\n",
        "\n",
        "  return new_str\n",
        "print(space_none(\"I'm a boy, you're a girl\",3))"
      ],
      "metadata": {
        "colab": {
          "base_uri": "https://localhost:8080/"
        },
        "id": "3ihPIYRrj6X1",
        "outputId": "e95a8456-1a22-457e-9236-ee51ccc007d0"
      },
      "execution_count": 18,
      "outputs": [
        {
          "output_type": "stream",
          "name": "stdout",
          "text": [
            "I'm_a_boy,_you're a girl\n"
          ]
        }
      ]
    },
    {
      "cell_type": "code",
      "source": [
        "# 5번 문제 replace로 만들어보기\n",
        "def space_none(str_, num_1=0):"
      ],
      "metadata": {
        "id": "O0_JxmWxpmb5"
      },
      "execution_count": null,
      "outputs": []
    }
  ]
}