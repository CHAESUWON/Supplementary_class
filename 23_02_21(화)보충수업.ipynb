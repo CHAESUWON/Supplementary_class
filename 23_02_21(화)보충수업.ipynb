{
  "nbformat": 4,
  "nbformat_minor": 0,
  "metadata": {
    "colab": {
      "provenance": [],
      "authorship_tag": "ABX9TyNBr5g/tDNqUCuQwQQRNVWu",
      "include_colab_link": true
    },
    "kernelspec": {
      "name": "python3",
      "display_name": "Python 3"
    },
    "language_info": {
      "name": "python"
    }
  },
  "cells": [
    {
      "cell_type": "markdown",
      "metadata": {
        "id": "view-in-github",
        "colab_type": "text"
      },
      "source": [
        "<a href=\"https://colab.research.google.com/github/CHAESUWON/Supplementary_class/blob/main/23_02_21(%ED%99%94)%EB%B3%B4%EC%B6%A9%EC%88%98%EC%97%85.ipynb\" target=\"_parent\"><img src=\"https://colab.research.google.com/assets/colab-badge.svg\" alt=\"Open In Colab\"/></a>"
      ]
    },
    {
      "cell_type": "code",
      "source": [
        "# 1 # \n",
        "\n",
        "# 1.1 변수에 대문자 'A' 값 할당 (값 = value, 할당 = allocation)\n",
        "print(\"1.1 변수에 정수 65 할당하여 초기화\") \n",
        "num = 65\n",
        "\n",
        "# 1.2 값이 할당된 변수 출력\n",
        "# 1.3 변수의 데이터 타입 출력\n",
        "print('1.2 변수 출력:', num) \n",
        "print('1.3 변수 타입:', type(num)) \n",
        "\n",
        "# 1.4 변수가 참조하는 메모리 위치 출력 \n",
        "print('1.4 주소 출력:', id(num))  # 변수가 참조하는 메모리 위치 출력\n",
        "\n",
        "# 출력 결과\n",
        "# 1.1 변수에 정수 65 할당하여 초기화\n",
        "# 1.2 변수 출력: 65\n",
        "# 1.3 변수 타입: <class 'int'>\n",
        "# 1.4 주소 출력: 9795136\n",
        "\n",
        "\n",
        "# 2 #\n",
        "\n",
        "# 2.1 변수에 들어있는 정수 값을 2진수, 8진수, 10진수, 16진수로 출력\n",
        "print('\\n2.1  2진수 출력:', bin(num))  # 2진수 출력\n",
        "print('2.2  8진수 출력:', oct(num))  # 8진수 출력\n",
        "print('2.2 10진수 출력:', num)  # 10진수 출력\n",
        "print('2.3 16진수 출력:', hex(num))  # 16진수 출력\n",
        "\n",
        "# 출력 결과\n",
        "# 2.1  2진수 출력: 0b1000001\n",
        "# 2.2  8진수 출력: 0o101\n",
        "# 2.2 10진수 출력: 65\n",
        "# 2.3 16진수 출력: 0x41"
      ],
      "metadata": {
        "colab": {
          "base_uri": "https://localhost:8080/"
        },
        "id": "b_ubo1GwZYUT",
        "outputId": "f984ff61-d8e2-4592-8ddd-7ee5433b338a"
      },
      "execution_count": null,
      "outputs": [
        {
          "output_type": "stream",
          "name": "stdout",
          "text": [
            "1.1 변수에 정수 65 할당하여 초기화\n",
            "1.2 변수 출력: 65\n",
            "1.3 변수 타입: <class 'int'>\n",
            "1.4 주소 출력: 0x957640\n",
            "\n",
            "2.1  2진수 출력: 0b1000001\n",
            "2.2  8진수 출력: 0o101\n",
            "2.2 10진수 출력: 65\n",
            "2.3 16진수 출력: 0x41\n"
          ]
        }
      ]
    },
    {
      "cell_type": "code",
      "source": [
        "# ***프로그래밍 구현에 정답은 없다.\n",
        "\n",
        "# 7.1  - sep 함수 사용하여 ''(공백) 제거\n",
        "\n",
        "# print('Life','is','short,', sep='')\n",
        "# print('art','long,', sep='')\n",
        "# print('oppertunity','fleeting,', sep='')\n",
        "# print('experience','treacherous,', sep='')\n",
        "# print('judgement','difficult.', sep='')\n",
        "\n",
        "\n",
        "# 7.2\n",
        "\n",
        "# print('Life','is','short,', end='')\n",
        "# print('art','long,', end='')\n",
        "# print('oppertunity','fleeting,', end='')\n",
        "# print('experience','treacherous,', end='')\n",
        "# print('judgement','difficult.', end='')\n",
        "\n",
        "\n",
        "# 7.3\n",
        "print('Life is short, \\n art long, \\n oppertunity fleeting, \\n experience treacherous, \\n judgement difficult.')\n",
        "\n",
        "\n",
        "\n",
        "# 7.1 위 print() 함수 5개를 [공백 제거]된 상태로 출력하세요\n",
        "# 결과 >> Lifeisshort,\n",
        "#         artlong,\n",
        "\n",
        "# 7.2 위 영어 문장을 print() 함수 5개를 사용하되, [줄바꿈 없이] 한줄로 출력하세요.\n",
        "# 결과 >> Life is short, art long, oppertunity fleeting, experience treacherous, judgement difficult.\n",
        "\n",
        "# 7.3 위 한줄로 출력한 영어 문장을 print() 함수 1개를 사용하여 5줄로 출력하세요.\n",
        "# 결과 >> Life is short,\n",
        "#         art long,"
      ],
      "metadata": {
        "colab": {
          "base_uri": "https://localhost:8080/"
        },
        "id": "Xe6wwjijc0Yi",
        "outputId": "71149b8c-04d2-48ea-fe73-60c8c79ca5c9"
      },
      "execution_count": null,
      "outputs": [
        {
          "output_type": "stream",
          "name": "stdout",
          "text": [
            "Life is short, \n",
            " art long, \n",
            " oppertunity fleeting, \n",
            " experience treacherous, \n",
            " judgement difficult.\n"
          ]
        }
      ]
    },
    {
      "cell_type": "code",
      "source": [
        " str = 'Hello Python'\n",
        "\n",
        "# 1. 위 문자열의 길이를 출력하세요 #\n",
        "# 결과 >> 12\n",
        "print(len(str))\n",
        "\n",
        "# 2. 위 문자열의 길이를 통해 마지막 인덱스를 출력하세요\n",
        "# 결과 >> 11\n",
        "print(len(str) -1)  # 인덱스는 0부터 시작하므로 len(str)에서 1을 빼주어야 함\n",
        "\n",
        "# 3. 문자 'o', 'n' 의 인덱스를 출력하세요\n",
        "# 결과 >> 4\n",
        "print(str.find('o'))  # 단, find 함수는 가장 처음 일치하는 값만 찾음\n",
        "print(str.find('n'))\n",
        "\n",
        "# 4. 문자 'o', 'n' 의 인덱스를 찾아, 슬라이싱 하여 출력하세요\n",
        "# 결과 >> o Pytho\n",
        "# print(str[4], str[6:11])\n",
        "\n",
        "# 5. 'e' 자리의 음수 인덱스를 구하는 연산을 만들어 음수 인덱스를 출력하세요.\n",
        "# 결과 >> -11\n",
        "print(str.find('e') - len(str))  # 현재 인덱스 - 전체 인덱스 길이\n",
        "\n",
        "# 6. 문자 'e' : 'y' 자리의 음수 인덱스를 구하는 연산을 만들어 슬라이싱 후 출력하세요.\n",
        "# 결과 >> ello P\n",
        "print(str[str.find('e') - len(str) : str.find('y') - len(str)])  # str[ 1 - 12 : 7 - 12 ]"
      ],
      "metadata": {
        "colab": {
          "base_uri": "https://localhost:8080/"
        },
        "id": "lWUfMKtldp5b",
        "outputId": "eff1d8dc-094d-48e9-e98a-2f041065c998"
      },
      "execution_count": null,
      "outputs": [
        {
          "output_type": "stream",
          "name": "stdout",
          "text": [
            "12\n",
            "11\n",
            "4\n",
            "11\n",
            "-11\n",
            "ello P\n"
          ]
        }
      ]
    },
    {
      "cell_type": "code",
      "source": [
        "# 1 #\n",
        "# 리스트는 [ ] (대괄호)로 값을 묶어주며 각 값은 ,(콤마)로 구분한다.\n",
        "# 리스트 = [값, 값, 값]\n",
        "arr1 = [273, 32, \"문자열\", True, [22, 33, \"AB\"]]\n",
        "print(arr1) # [273, 32, '문자열', True, [22, 33, 'AB']]\n",
        "\n",
        "# 리스트는 빈 리스트를 만들어 놓은 뒤에 새 값을 추가하는 방식으로 사용할 수 있다.\n",
        "arr2 = [ ]\n",
        "arr3 = list()\n",
        "\n",
        "print(arr2)       # []\n",
        "print(bool(arr3)) # False\n",
        "\n",
        "# 2 #\n",
        "# 리스트는 range()를 이용해 선언 할 수 있다.\n",
        "\n",
        "# >> 리스트 = list(range(횟수))\n",
        "# >> 리스트 = list(range(시작, 끝))\n",
        "# >> 리스트 = list(range(시작, 끝, 증가폭)\n",
        "\n",
        "arr4 = list(range(4))\n",
        "arr5 = list(range(4, 8))\n",
        "arr6 = list(range(4, 8, 2))\n",
        "\n",
        "\n",
        "print(arr4) # [0, 1, 2, 3]\n",
        "print(arr5) # [4, 5, 6, 7]\n",
        "print(arr6) # [4, 6]"
      ],
      "metadata": {
        "id": "NRRuDMguwooR",
        "colab": {
          "base_uri": "https://localhost:8080/"
        },
        "outputId": "258f6815-e168-4777-d638-cd6c7fbf52f9"
      },
      "execution_count": null,
      "outputs": [
        {
          "output_type": "stream",
          "name": "stdout",
          "text": [
            "[273, 32, '문자열', True, [22, 33, 'AB']]\n",
            "[]\n",
            "False\n",
            "[0, 1, 2, 3]\n",
            "[4, 5, 6, 7]\n",
            "[4, 6]\n"
          ]
        }
      ]
    },
    {
      "cell_type": "code",
      "source": [
        "# immutable 객체 (상태 변경 X)\n",
        "print(\"immutable 객체\")\n",
        "chr1 = 'A'\n",
        "chr2 = 'A'\n",
        "chr3 = 'A'\n",
        "\n",
        "print(hex(id(chr1)), hex(id(chr2)), hex(id(chr3))) # 동일 주소값\n",
        "\n",
        "chr1 = 'B'\n",
        "print(hex(id(chr1)), hex(id(chr2)), hex(id(chr3))) # 상이한 주소값\n",
        "# 값이 변경되면, 메모리 위치가 변경된다."
      ],
      "metadata": {
        "colab": {
          "base_uri": "https://localhost:8080/"
        },
        "id": "U5QQ4eJAykpe",
        "outputId": "4b15da83-e4ed-408a-b99a-50ef5c0e5f5f"
      },
      "execution_count": null,
      "outputs": [
        {
          "output_type": "stream",
          "name": "stdout",
          "text": [
            "immutable 객체\n",
            "0x7fcfecbd90b0 0x7fcfecbd90b0 0x7fcfecbd90b0\n",
            "0x7fcfecbf55b0 0x7fcfecbd90b0 0x7fcfecbd90b0\n"
          ]
        }
      ]
    }
  ]
}